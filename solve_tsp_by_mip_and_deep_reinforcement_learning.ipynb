{
 "cells": [
  {
   "cell_type": "markdown",
   "metadata": {
    "papermill": {
     "duration": 0.015712,
     "end_time": "2022-12-27T07:03:45.827581",
     "exception": false,
     "start_time": "2022-12-27T07:03:45.811869",
     "status": "completed"
    },
    "tags": []
   },
   "source": [
    "<h2>Abstract</h2>\n",
    "<p>\n",
    "TSP（巡回セールスマン問題）は、ある都市から出発し、全ての都市を訪れて元の都市に戻ることを考えた時に、総移動距離が一番最短となるルートを求める最適化問題です。<br>\n",
    "TSPは組み合わせ最適化問題の中でも代表的な問題の1つで、NP困難と呼ばれる問題のクラスに属します。<br>\n",
    "<br>\n",
    "一般的にはこういった問題は最適化手法で解きます。<br>\n",
    "一方で、近年ではニューラルネットワークや深層学習が発展したことにより、深層強化学習を使ったアプローチ手法も提案されています。<br>\n",
    "<br>\n",
    "このノートブックでは、TSPを深層強化学習で解いてみた場合、どのような実装になるのか試しており、うまく解けましたので、それについて記します。<br>\n",
    "<br>\n",
    "モデルの学習ではGPUを使いたいので、全てのコードをkaggleノートブックに書いて実施します。<br>\n",
    "<br>\n",
    "===================<br>\n",
    "<br>\n",
    "Traveling salesman problem (TSP) is an optimization problem to solve the route with the shortest total travel distance when starting from a city, visiting all cities, and returning to the start city.<br>\n",
    "TSP is one of the combinatorial optimization problems and belongs to a class NP-hard.<br>\n",
    "<br>\n",
    "We can solve the problem by a general optimization method.<br>\n",
    "On the other hand, with the recent development of deep learning, approach methods using deep reinforcement learning have also been proposed. <br>\n",
    "<br>\n",
    "In this notebook, it will describe that tried to solve TSP using deep reinforcement learning.<br>\n",
    "<br>\n",
    "We want to use the GPU for training the model, so all code will be written in a kaggle notebook. (this notebook)<br>\n",
    "<br>\n",
    "</p>"
   ]
  },
  {
   "cell_type": "markdown",
   "metadata": {
    "papermill": {
     "duration": 0.013877,
     "end_time": "2022-12-27T07:03:45.856375",
     "exception": false,
     "start_time": "2022-12-27T07:03:45.842498",
     "status": "completed"
    },
    "tags": []
   },
   "source": [
    "<h2>(1) Library</h2>"
   ]
  },
  {
   "cell_type": "code",
   "execution_count": 1,
   "metadata": {
    "execution": {
     "iopub.execute_input": "2022-12-27T03:51:20.908023Z",
     "iopub.status.busy": "2022-12-27T03:51:20.907664Z",
     "iopub.status.idle": "2022-12-27T03:51:28.487584Z",
     "shell.execute_reply": "2022-12-27T03:51:28.486451Z",
     "shell.execute_reply.started": "2022-12-27T03:51:20.907970Z"
    },
    "papermill": {
     "duration": 8.755568,
     "end_time": "2022-12-27T07:03:54.626193",
     "exception": false,
     "start_time": "2022-12-27T07:03:45.870625",
     "status": "completed"
    },
    "tags": []
   },
   "outputs": [],
   "source": [
    "!pip install pulp > /dev/null 2>&1"
   ]
  },
  {
   "cell_type": "code",
   "execution_count": 2,
   "metadata": {
    "_cell_guid": "b1076dfc-b9ad-4769-8c92-a6c4dae69d19",
    "_uuid": "8f2839f25d086af736a60e9eeb907d3b93b6e0e5",
    "execution": {
     "iopub.execute_input": "2022-12-27T03:51:28.490075Z",
     "iopub.status.busy": "2022-12-27T03:51:28.489692Z",
     "iopub.status.idle": "2022-12-27T03:51:30.590489Z",
     "shell.execute_reply": "2022-12-27T03:51:30.589592Z",
     "shell.execute_reply.started": "2022-12-27T03:51:28.490013Z"
    },
    "papermill": {
     "duration": 1.989692,
     "end_time": "2022-12-27T07:03:56.630813",
     "exception": false,
     "start_time": "2022-12-27T07:03:54.641121",
     "status": "completed"
    },
    "tags": []
   },
   "outputs": [
    {
     "data": {
      "text/plain": [
       "('1.4.0', True)"
      ]
     },
     "execution_count": 2,
     "metadata": {},
     "output_type": "execute_result"
    }
   ],
   "source": [
    "import os\n",
    "import math\n",
    "import random\n",
    "import itertools\n",
    "import warnings\n",
    "warnings.filterwarnings(\"ignore\")\n",
    "\n",
    "import numpy as np\n",
    "import pandas as pd\n",
    "from scipy.spatial import distance_matrix\n",
    "import matplotlib\n",
    "import matplotlib.pylab as plt\n",
    "import seaborn as sns\n",
    "import pulp\n",
    "import torch\n",
    "import torch.nn as nn\n",
    "import torch.optim as optim\n",
    "import torch.autograd as autograd\n",
    "import torch.nn.functional as F\n",
    "from torch.autograd import Variable\n",
    "from torch.utils.data import Dataset, DataLoader\n",
    "from tqdm.notebook import tqdm\n",
    "\n",
    "use_cuda = torch.cuda.is_available()\n",
    "torch.__version__, use_cuda"
   ]
  },
  {
   "cell_type": "markdown",
   "metadata": {
    "papermill": {
     "duration": 0.0143,
     "end_time": "2022-12-27T07:03:56.660115",
     "exception": false,
     "start_time": "2022-12-27T07:03:56.645815",
     "status": "completed"
    },
    "tags": []
   },
   "source": [
    "<h2>(2) Constants</h2>"
   ]
  },
  {
   "cell_type": "code",
   "execution_count": 3,
   "metadata": {
    "execution": {
     "iopub.execute_input": "2022-12-27T03:51:30.592352Z",
     "iopub.status.busy": "2022-12-27T03:51:30.591857Z",
     "iopub.status.idle": "2022-12-27T03:51:30.598594Z",
     "shell.execute_reply": "2022-12-27T03:51:30.597468Z",
     "shell.execute_reply.started": "2022-12-27T03:51:30.592166Z"
    },
    "papermill": {
     "duration": 0.023402,
     "end_time": "2022-12-27T07:03:56.699174",
     "exception": false,
     "start_time": "2022-12-27T07:03:56.675772",
     "status": "completed"
    },
    "tags": []
   },
   "outputs": [],
   "source": [
    "### Common\n",
    "\n",
    "SEED = 777\n",
    "N_CUSTOMER = 14\n",
    "N_POINT = N_CUSTOMER + 1\n",
    "\n",
    "### Deep reinforcement learning\n",
    "\n",
    "EMBEDDING_SIZE = 128\n",
    "HIDDEN_SIZE = 128\n",
    "N_GLIMPSES = 1\n",
    "TANH_EXPLORATION = 10\n",
    "USE_TANH = True\n",
    "BETA = 0.99\n",
    "MAX_GRAD_NORM = 2.\n",
    "N_EPOCH = 1000"
   ]
  },
  {
   "cell_type": "markdown",
   "metadata": {
    "papermill": {
     "duration": 0.014154,
     "end_time": "2022-12-27T07:03:56.727881",
     "exception": false,
     "start_time": "2022-12-27T07:03:56.713727",
     "status": "completed"
    },
    "tags": []
   },
   "source": [
    "<h2>(3) Functions</h2>"
   ]
  },
  {
   "cell_type": "markdown",
   "metadata": {
    "papermill": {
     "duration": 0.014155,
     "end_time": "2022-12-27T07:03:56.756576",
     "exception": false,
     "start_time": "2022-12-27T07:03:56.742421",
     "status": "completed"
    },
    "tags": []
   },
   "source": [
    "<h3>(3.1) function</h3>"
   ]
  },
  {
   "cell_type": "code",
   "execution_count": 4,
   "metadata": {
    "execution": {
     "iopub.execute_input": "2022-12-27T03:51:56.735806Z",
     "iopub.status.busy": "2022-12-27T03:51:56.735445Z",
     "iopub.status.idle": "2022-12-27T03:51:56.763408Z",
     "shell.execute_reply": "2022-12-27T03:51:56.762603Z",
     "shell.execute_reply.started": "2022-12-27T03:51:56.735749Z"
    },
    "papermill": {
     "duration": 0.044886,
     "end_time": "2022-12-27T07:03:56.816087",
     "exception": false,
     "start_time": "2022-12-27T07:03:56.771201",
     "status": "completed"
    },
    "tags": []
   },
   "outputs": [],
   "source": [
    "### Common\n",
    "\n",
    "def fix_seed(seed: int):\n",
    "    \"\"\"Fix random seeds.\n",
    "    \n",
    "    Args:\n",
    "        seed (int): Given random seed.\n",
    "    \"\"\"\n",
    "    random.seed(seed)\n",
    "    os.environ[\"PYTHONHASHSEED\"] = str(seed)\n",
    "    np.random.seed(seed)\n",
    "    torch.manual_seed(seed)\n",
    "    torch.cuda.manual_seed(seed)\n",
    "    torch.backends.cudnn.deterministic = True\n",
    "    torch.use_deterministic_algorithms = True\n",
    "    \n",
    "    \n",
    "fix_seed(SEED)\n",
    "\n",
    "\n",
    "def prepare_tsp(n_point: int) -> pd.DataFrame:\n",
    "    \"\"\"Generate TSP state.\n",
    "    \n",
    "    Args:\n",
    "        n_point (int): The number of city points it must visit.\n",
    "        \n",
    "    Returns:\n",
    "        pd.DataFrame: Dataframe having coordinates of points of cities.\n",
    "    \"\"\"\n",
    "    df = pd.DataFrame({\n",
    "        \"x\": np.random.randint(0, 100, n_point),\n",
    "        \"y\": np.random.randint(0, 100, n_point),\n",
    "    })\n",
    "    df.iloc[0][\"x\"] = 0\n",
    "    df.iloc[0][\"y\"] = 0\n",
    "    \n",
    "    return df\n",
    "\n",
    "\n",
    "def get_distances(df: pd.DataFrame) -> np.ndarray:\n",
    "    \"\"\"Calculate distance matrix from given coordinates of points of cities.\n",
    "    \n",
    "    Args:\n",
    "        df (pd.DataFrame): Dataframe having coordinates of points of cities.\n",
    "        \n",
    "    Returns:\n",
    "        np.ndarray: Distance matrix.\n",
    "    \"\"\"\n",
    "    distances = pd.DataFrame(\n",
    "        distance_matrix(df[['x', 'y']].values, df[['x', 'y']].values), \n",
    "        index=df.index, \n",
    "        columns=df.index,\n",
    "    )\n",
    "    \n",
    "    return distances.values\n",
    "    \n",
    "    \n",
    "def plot_distance_matrix(distances: np.ndarray):\n",
    "    \"\"\"Plot given distance matrix as a heatmap.\n",
    "    \n",
    "    Args:\n",
    "        distances (np.ndarray): Given distance matrix.\n",
    "    \"\"\"\n",
    "    fig, ax = plt.subplots(figsize=(13, 11))\n",
    "    sns.heatmap(\n",
    "        distances, \n",
    "        ax=ax, \n",
    "        cmap=\"Blues\", \n",
    "        annot=True, \n",
    "        fmt=\".0f\", \n",
    "        cbar=True, \n",
    "        cbar_kws={\"shrink\": .3}, \n",
    "        linewidths=.1,\n",
    "    )\n",
    "    plt.title(\"distance matrix\")\n",
    "    plt.show()\n",
    "    \n",
    "    \n",
    "def plot_tsp_state(df: pd.DataFrame, routes=[]):\n",
    "    \"\"\"Plot TSP state. state (points of cities).\n",
    "    \n",
    "    Args:\n",
    "        df (pd.DataFrame): Dataframe having coordinates of points of cities.\n",
    "        routes (list): List of points of traveling route. Default is []. If len(routes) = 0, it don't plot.\n",
    "    \"\"\"\n",
    "    plt.figure(figsize=(5, 5))\n",
    "\n",
    "    # Draw the problem state\n",
    "    for i, row in df.iterrows():\n",
    "        if i == 0:\n",
    "            plt.scatter(row[\"x\"], row[\"y\"], c=\"r\")\n",
    "            plt.text(row[\"x\"] + 1, row[\"y\"] + 1, \"depot\")\n",
    "        else:\n",
    "            plt.scatter(row[\"x\"], row[\"y\"], c=\"black\")\n",
    "            plt.text(row[\"x\"] + 1, row[\"y\"] + 1, f\"{i}\")\n",
    "\n",
    "    plt.xlim([-10, 110])\n",
    "    plt.ylim([-10, 110])\n",
    "    \n",
    "    if len(routes) > 0:\n",
    "        arrowprops = dict(arrowstyle=\"->\", connectionstyle=\"arc3\", edgecolor=\"blue\")\n",
    "        for i, j in routes:\n",
    "            plt.annotate(\n",
    "                \"\", \n",
    "                xy=[df.iloc[j][\"x\"], df.iloc[j][\"y\"]], \n",
    "                xytext=[df.iloc[i][\"x\"], df.iloc[i][\"y\"]], \n",
    "                arrowprops=arrowprops,\n",
    "            )\n",
    "        \n",
    "    plt.show()\n",
    "    \n",
    "    \n",
    "### Deep reinforcement learning\n",
    "    \n",
    "def reward(sample_solution, use_cuda=use_cuda):\n",
    "    \"\"\"Calculate reward. (In this case, reward is the total distance of sample_solution)\n",
    "    \n",
    "    Args:\n",
    "        sample_solution (list[torch.Tensor]): Predicted route.\n",
    "        use_cuda (bool): Use cuda or not.\n",
    "        \n",
    "    Returns:\n",
    "        torch.Tensor: Reward.\n",
    "    \"\"\"\n",
    "    batch_size = sample_solution[0].size(0)\n",
    "    n = len(sample_solution) # sample_solution is seq_len of [batch_size]\n",
    "    tour_len = (\n",
    "        Variable(torch.zeros([batch_size])).cuda() if use_cuda else Variable(torch.zeros([batch_size]))\n",
    "    )\n",
    "    for i in range(n - 1):\n",
    "        tour_len += torch.norm(sample_solution[i] - sample_solution[i + 1], dim=1)\n",
    "    tour_len += torch.norm(sample_solution[n - 1] - sample_solution[0], dim=1)\n",
    "\n",
    "    return tour_len\n",
    "\n",
    "\n",
    "def plot_reward_loss(trainer):\n",
    "    \"\"\"Plot reward curve and loss curve during training.\n",
    "    \n",
    "    Args:\n",
    "        trainer (Trainer): Trainer class.\n",
    "    \"\"\"\n",
    "    fig, ax1 = plt.subplots()\n",
    "    ax2 = ax1.twinx()\n",
    "\n",
    "    ax1.plot(trainer.train_tour, color=\"skyblue\")\n",
    "    ax1.set_ylabel(\"reward\")\n",
    "\n",
    "    ax2.plot(trainer.train_loss, color=\"orange\")\n",
    "    ax2.set_ylabel(\"loss\")\n",
    "\n",
    "    ax1.set_xlabel(\"epoch\")\n",
    "\n",
    "    fig.tight_layout()\n",
    "    plt.title(\"reward and loss\")\n",
    "    plt.show()\n"
   ]
  },
  {
   "cell_type": "markdown",
   "metadata": {
    "papermill": {
     "duration": 0.014464,
     "end_time": "2022-12-27T07:03:56.845354",
     "exception": false,
     "start_time": "2022-12-27T07:03:56.830890",
     "status": "completed"
    },
    "tags": []
   },
   "source": [
    "<h3>(3.2) Class</h3>"
   ]
  },
  {
   "cell_type": "code",
   "execution_count": 5,
   "metadata": {
    "execution": {
     "iopub.execute_input": "2022-12-27T03:51:57.946658Z",
     "iopub.status.busy": "2022-12-27T03:51:57.946314Z",
     "iopub.status.idle": "2022-12-27T03:51:58.010482Z",
     "shell.execute_reply": "2022-12-27T03:51:58.009694Z",
     "shell.execute_reply.started": "2022-12-27T03:51:57.946603Z"
    },
    "papermill": {
     "duration": 0.078393,
     "end_time": "2022-12-27T07:03:56.938649",
     "exception": false,
     "start_time": "2022-12-27T07:03:56.860256",
     "status": "completed"
    },
    "tags": []
   },
   "outputs": [],
   "source": [
    "### MIP\n",
    "\n",
    "class TSPSolver:\n",
    "    def __init__(self, n_point: int, distances: np.ndarray):\n",
    "        \"\"\"Make TSPSolver instance.\n",
    "    \n",
    "        Args:\n",
    "            n_point (int): The number of city points it must visit.\n",
    "            distances (np.ndarray): Distance matrix.\n",
    "        \"\"\"\n",
    "        self.n_point = n_point\n",
    "        self.distances = distances\n",
    "        self.problem = None\n",
    "        self.x = None\n",
    "        self.u = None\n",
    "        self.status = None\n",
    "        \n",
    "    def set_problem(self):\n",
    "        \"\"\"Set the problem.\n",
    "        \"\"\"\n",
    "        # Set the problem\n",
    "        self.problem = pulp.LpProblem(\"tsp_mip\", pulp.LpMinimize)\n",
    "\n",
    "        # Set valiables\n",
    "        self.x = pulp.LpVariable.dicts(\n",
    "            \"x\", \n",
    "            ((i, j) for i in range(self.n_point) for j in range(self.n_point)), \n",
    "            lowBound=0, \n",
    "            upBound=1,\n",
    "            cat=\"Binary\",\n",
    "        )\n",
    "        # We need to keep track of the order in the tour to eliminate the possibility of subtours\n",
    "        self.u = pulp.LpVariable.dicts(\n",
    "            \"u\", \n",
    "            (i for i in range(self.n_point)), \n",
    "            lowBound=1, \n",
    "            upBound=self.n_point, \n",
    "            cat=\"Integer\",\n",
    "        )\n",
    "\n",
    "        # Set objective function\n",
    "        self.problem += pulp.lpSum(\n",
    "            self.distances[i][j] * self.x[i, j] for i in range(self.n_point) for j in range(self.n_point)\n",
    "        )\n",
    "\n",
    "        # Set constrains\n",
    "        for i in range(self.n_point):\n",
    "            self.problem += self.x[i, i] == 0\n",
    "\n",
    "        for i in range(self.n_point):\n",
    "            self.problem += pulp.lpSum(self.x[i, j] for j in range(self.n_point)) == 1\n",
    "            self.problem += pulp.lpSum(self.x[j, i] for j in range(self.n_point)) == 1\n",
    "\n",
    "        # Eliminate subtour\n",
    "        for i in range(self.n_point):\n",
    "            for j in range(self.n_point):\n",
    "                if i != j and (i != 0 and j != 0):\n",
    "                    self.problem += self.u[i] - self.u[j] <= self.n_point * (1 - self.x[i, j]) - 1\n",
    "                    \n",
    "    def solve(self):\n",
    "        \"\"\"Solve the problem.\n",
    "        \"\"\"\n",
    "        # Solve the problem\n",
    "        self.status = self.problem.solve()\n",
    "        \n",
    "    def check_status(self):\n",
    "        \"\"\"Get the status (status, 'Optimal' or 'Infeasible', Solved objective function value).\n",
    "        \n",
    "        Returns:\n",
    "            int, str, float: Status of the problem, 'Optimal' or 'Infeasible', Solved objective function value.\n",
    "        \"\"\"\n",
    "        # output status, value of objective function\n",
    "        return self.status, pulp.LpStatus[self.status], pulp.value(self.problem.objective)\n",
    "    \n",
    "    \n",
    "### Deep reinforcement learning\n",
    "\n",
    "class Attention(nn.Module):\n",
    "    def __init__(self, hidden_size, use_tanh=False, C=10, use_cuda=use_cuda):\n",
    "        \"\"\"Make Attension instance.\n",
    "    \n",
    "        Args:\n",
    "            hidden_size (int): Size of hidden layer.\n",
    "            use_tanh (bool): Use tanh or not.\n",
    "            C (int): tanh exploration.\n",
    "            use_cuda (bool): Use cuda or not.\n",
    "        \"\"\"\n",
    "        super(Attention, self).__init__()\n",
    "        self.use_tanh = use_tanh\n",
    "        self.C = C\n",
    "\n",
    "        # Bahdanau algo\n",
    "        self.W_query = nn.Linear(hidden_size, hidden_size)\n",
    "        self.W_ref   = nn.Conv1d(hidden_size, hidden_size, 1, 1)\n",
    "\n",
    "        V = torch.cuda.FloatTensor(hidden_size) if use_cuda else torch.FloatTensor(hidden_size)\n",
    "        self.V = nn.Parameter(V)\n",
    "        self.V.data.uniform_(\n",
    "            -(1. / math.sqrt(hidden_size)) , 1. / math.sqrt(hidden_size)\n",
    "        )\n",
    "        \n",
    "    def forward(self, query, ref):\n",
    "        \"\"\"Forward function.\n",
    "    \n",
    "        Args:\n",
    "            query (torch.Tensor): Query.\n",
    "            ref (torch.Tensor): Ref.\n",
    "            \n",
    "        Returns:\n",
    "            torch.Tensor, torch.Tensor: Ref, logits score.\n",
    "        \"\"\"\n",
    "        # query = [batch_size, hidden_size]\n",
    "        # ref   = [batch_size, seq_len, hidden_size]\n",
    "        batch_size = ref.size(0)\n",
    "        seq_len    = ref.size(1)\n",
    "        \n",
    "        # Bahdanau algo\n",
    "        ref = ref.permute(0, 2, 1)\n",
    "        query = self.W_query(query).unsqueeze(2)                           # [batch_size x hidden_size x           1]\n",
    "        ref   = self.W_ref(ref)                                            # [batch_size x hidden_size x     seq_len] \n",
    "        expanded_query = query.repeat(1, 1, seq_len)                       # [batch_size x hidden_size x     seq_len]\n",
    "        V = self.V.unsqueeze(0).unsqueeze(0).repeat(batch_size, 1, 1)      # [batch_size x           1 x hidden_size]\n",
    "        logits = torch.bmm(V, torch.tanh(expanded_query + ref)).squeeze(1)\n",
    "        \n",
    "        if self.use_tanh:\n",
    "            logits = self.C * torch.tanh(logits)\n",
    "            \n",
    "        return ref, logits\n",
    "    \n",
    "    \n",
    "class GraphEmbedding(nn.Module):\n",
    "    def __init__(self, input_size, embedding_size, use_cuda=use_cuda):\n",
    "        \"\"\"Make GraphEmbedding instance.\n",
    "    \n",
    "        Args:\n",
    "            input_size (int): Size of input.\n",
    "            embedding_size (int): Size of embedding.\n",
    "            use_cuda (bool): Use cuda or not.\n",
    "        \"\"\"\n",
    "        super(GraphEmbedding, self).__init__()\n",
    "        self.embedding_size = embedding_size\n",
    "        self.use_cuda = use_cuda\n",
    "        \n",
    "        self.embedding = nn.Parameter(torch.FloatTensor(input_size, embedding_size)) \n",
    "        self.embedding.data.uniform_(\n",
    "            -(1. / math.sqrt(embedding_size)), 1. / math.sqrt(embedding_size)\n",
    "        )\n",
    "        \n",
    "    def forward(self, inputs):\n",
    "        \"\"\"Forward function.\n",
    "    \n",
    "        Args:\n",
    "            inputs (torch.Tensor): Input tensor.\n",
    "            \n",
    "        Returns:\n",
    "            torch.Tensor: Embedded tensor.\n",
    "        \"\"\"\n",
    "        # inputs = [batch_size, input_size, seq_len]\n",
    "        batch_size = inputs.size(0)\n",
    "        seq_len    = inputs.size(2)\n",
    "        embedding = self.embedding.repeat(batch_size, 1, 1)  \n",
    "        embedded = []\n",
    "        inputs = inputs.unsqueeze(1)\n",
    "        for i in range(seq_len):\n",
    "            embedded.append(torch.bmm(inputs[:, :, :, i].float(), embedding))\n",
    "        embedded = torch.cat(embedded, 1)\n",
    "        \n",
    "        return embedded\n",
    "    \n",
    "    \n",
    "class PointerNet(nn.Module):\n",
    "    def __init__(self, \n",
    "                 embedding_size, \n",
    "                 hidden_size, \n",
    "                 seq_len, \n",
    "                 n_glimpses, \n",
    "                 tanh_exploration, \n",
    "                 use_tanh, \n",
    "                 use_cuda=use_cuda):\n",
    "        \"\"\"Make PointerNet instance.\n",
    "    \n",
    "        Args:\n",
    "            embedding_size (int): Size of embedding.\n",
    "            hidden_size (int): Size of hidden layer.\n",
    "            seq_len (int): Length of sequence. (In this case, the number of cities)\n",
    "            n_glimpses (int): The number of encoder vectors to reference in attention/glimpse.\n",
    "            tanh_exploration (int): tanh exploration.\n",
    "            use_tanh (bool): Use tanh or not.\n",
    "            use_cuda (bool): Use cuda or not.\n",
    "        \"\"\"\n",
    "        super(PointerNet, self).__init__()\n",
    "        self.embedding_size = embedding_size\n",
    "        self.hidden_size    = hidden_size\n",
    "        self.n_glimpses     = n_glimpses\n",
    "        self.seq_len        = seq_len\n",
    "        self.use_cuda       = use_cuda\n",
    "        \n",
    "        self.embedding = GraphEmbedding(2, embedding_size, use_cuda=use_cuda)\n",
    "        self.encoder   = nn.LSTM(embedding_size, hidden_size, batch_first=True)\n",
    "        self.decoder   = nn.LSTM(embedding_size, hidden_size, batch_first=True)\n",
    "        self.pointer   = Attention(\n",
    "            hidden_size, \n",
    "            use_tanh=use_tanh,\n",
    "            C=tanh_exploration, \n",
    "            use_cuda=use_cuda,\n",
    "        )\n",
    "        self.glimpse   = Attention(\n",
    "            hidden_size, \n",
    "            use_tanh=False, \n",
    "            use_cuda=use_cuda,\n",
    "        )\n",
    "        \n",
    "        self.decoder_start_input = nn.Parameter(torch.FloatTensor(embedding_size))\n",
    "        self.decoder_start_input.data.uniform_(\n",
    "            -(1. / math.sqrt(embedding_size)), 1. / math.sqrt(embedding_size)\n",
    "        )\n",
    "        \n",
    "    def apply_mask_to_logits(self, logits, mask, idxs):\n",
    "        \"\"\"Apply mask to logits.\n",
    "    \n",
    "        Args:\n",
    "            logits (torch.Tensor): Logits.\n",
    "            mask (torch.Tensor): Mask.\n",
    "            idxs (torch.Tensor or None): Idxs.\n",
    "\n",
    "        Returns:\n",
    "            torch.Tensor, torch.Tensor: Logits, cloned mask.\n",
    "        \"\"\"\n",
    "        batch_size = logits.size(0)\n",
    "        clone_mask = mask.clone()\n",
    "\n",
    "        if idxs is not None:\n",
    "            clone_mask[[i for i in range(batch_size)], idxs.data] = 1\n",
    "            logits[clone_mask] = -np.inf\n",
    "            \n",
    "        return logits, clone_mask\n",
    "            \n",
    "    def forward(self, inputs):\n",
    "        \"\"\"Forward function.\n",
    "    \n",
    "        Args:\n",
    "            inputs (torch.Tensor): Input tensor.\n",
    "            \n",
    "        Returns:\n",
    "            list[torch.Tensor], list[torch.Tensor]: Probabilities, idxs.\n",
    "        \"\"\"\n",
    "        # inputs = [batch_size, 1, seq_len]\n",
    "        batch_size = inputs.size(0)\n",
    "        seq_len    = inputs.size(2)\n",
    "        \n",
    "        embedded = self.embedding(inputs)\n",
    "        encoder_outputs, (hidden, context) = self.encoder(embedded)\n",
    "        \n",
    "        prev_probs    = []\n",
    "        prev_idxs     = []\n",
    "        mask          = (\n",
    "            torch.zeros(batch_size, seq_len).byte().cuda() if self.use_cuda else torch.zeros(batch_size, seq_len).byte()\n",
    "        )\n",
    "        idxs          = None\n",
    "        decoder_input = self.decoder_start_input.unsqueeze(0).repeat(batch_size, 1)\n",
    "        \n",
    "        for i in range(seq_len):\n",
    "            \n",
    "            _, (hidden, context) = self.decoder(decoder_input.unsqueeze(1), (hidden, context))\n",
    "            \n",
    "            query = hidden.squeeze(0)\n",
    "            for i in range(self.n_glimpses):\n",
    "                ref, logits = self.glimpse(query, encoder_outputs)\n",
    "                logits, mask = self.apply_mask_to_logits(logits, mask, idxs)\n",
    "                query = torch.bmm(ref, F.softmax(logits).unsqueeze(2)).squeeze(2) \n",
    "                \n",
    "            _, logits = self.pointer(query, encoder_outputs)\n",
    "            logits, mask = self.apply_mask_to_logits(logits, mask, idxs)\n",
    "            probs = F.softmax(logits)\n",
    "            \n",
    "            idxs = probs.multinomial(num_samples=1).squeeze(1)\n",
    "            for old_idxs in prev_idxs:\n",
    "                if old_idxs.eq(idxs).data.any():\n",
    "                    idxs = probs.multinomial(num_samples=1).squeeze(1)\n",
    "                    break\n",
    "            decoder_input = embedded[[i for i in range(batch_size)], idxs.data, :] \n",
    "            \n",
    "            prev_probs.append(probs)\n",
    "            prev_idxs.append(idxs)\n",
    "        \n",
    "        return prev_probs, prev_idxs\n",
    "    \n",
    "    \n",
    "class NeuralCombinatorialOptimization(nn.Module):\n",
    "    def __init__(self, \n",
    "                 embedding_size, \n",
    "                 hidden_size, \n",
    "                 seq_len, \n",
    "                 n_glimpses, \n",
    "                 tanh_exploration, \n",
    "                 use_tanh, \n",
    "                 reward, \n",
    "                 use_cuda=use_cuda):\n",
    "        \"\"\"Make NeuralCombinatorialOptimization instance.\n",
    "    \n",
    "        Args:\n",
    "            embedding_size (int): Size of embedding.\n",
    "            hidden_size (int): Size of hidden layer.\n",
    "            seq_len (int): Length of sequence. (In this case, the number of cities)\n",
    "            n_glimpses (int): The number of encoder vectors to reference in attention/glimpse.\n",
    "            tanh_exploration (int): tanh exploration.\n",
    "            use_tanh (bool): Use tanh or not.\n",
    "            reward (reward function): Defined reward function.\n",
    "            use_cuda (bool): Use cuda or not.     \n",
    "        \"\"\"\n",
    "        super(NeuralCombinatorialOptimization, self).__init__()\n",
    "        self.reward   = reward\n",
    "        self.use_cuda = use_cuda\n",
    "        \n",
    "        self.actor = PointerNet(\n",
    "            embedding_size, \n",
    "            hidden_size, \n",
    "            seq_len, \n",
    "            n_glimpses, \n",
    "            tanh_exploration, \n",
    "            use_tanh, \n",
    "            use_cuda,\n",
    "        )\n",
    "\n",
    "    def forward(self, inputs):\n",
    "        \"\"\"Forward function.\n",
    "    \n",
    "        Args:\n",
    "            inputs (torch.Tensor): Input tensor.\n",
    "            \n",
    "        Returns:\n",
    "            torch.Tensor, list[torch.Tensor], list[torch.Tensor], list[torch.Tensor]: Reward, probabilities, actions, idxs of actions.\n",
    "        \"\"\"\n",
    "        # inputs = [batch_size, input_size, seq_len]\n",
    "        batch_size = inputs.size(0)\n",
    "        input_size = inputs.size(1)\n",
    "        seq_len    = inputs.size(2)\n",
    "        \n",
    "        probs, action_idxs = self.actor(inputs)\n",
    "       \n",
    "        actions = []\n",
    "        inputs = inputs.transpose(1, 2)\n",
    "        for action_id in action_idxs:\n",
    "            actions.append(inputs[[x for x in range(batch_size)], action_id.data, :])\n",
    "            \n",
    "        action_probs = []    \n",
    "        for prob, action_id in zip(probs, action_idxs):\n",
    "            action_probs.append(prob[[x for x in range(batch_size)], action_id.data])\n",
    "\n",
    "        R = self.reward(actions, self.use_cuda)\n",
    "        \n",
    "        return R, action_probs, actions, action_idxs\n",
    "    \n",
    "    \n",
    "class Trainer:\n",
    "    def __init__(self, \n",
    "                 model, \n",
    "                 train_data, \n",
    "                 max_grad_norm=2.,\n",
    "                 beta=0.99, \n",
    "                 use_cuda=use_cuda):\n",
    "        \"\"\"Make Trainer instance.\n",
    "    \n",
    "        Args:\n",
    "            model (NeuralCombinatorialOptimization): Model which will be trained.\n",
    "            train_data (torch.Tensor): Train data.\n",
    "            max_grad_norm (float): max grad norm.\n",
    "            beta (float): beta.\n",
    "            use_cuda (bool): Use cuda or not.\n",
    "        \"\"\"\n",
    "        self.model         = model\n",
    "        self.use_cuda      = use_cuda\n",
    "        \n",
    "        self.train_data    = train_data.unsqueeze(0)\n",
    "        self.train_data    = (\n",
    "            Variable(self.train_data).cuda() if use_cuda else Variable(self.train_data)\n",
    "        )\n",
    "\n",
    "        self.actor_optim   = optim.Adam(model.actor.parameters(), lr=1e-4)\n",
    "        self.max_grad_norm = max_grad_norm\n",
    "        self.beta = beta\n",
    "        \n",
    "        self.train_loss = []\n",
    "        self.train_tour = []\n",
    "        self.epochs     = 0\n",
    "        \n",
    "    def train(self, n_epochs: int):\n",
    "        \"\"\"Train the model.\n",
    "    \n",
    "        Args:\n",
    "            n_epochs (int): The number of epoch.\n",
    "        \"\"\"\n",
    "        critic_exp_mvg_avg = torch.zeros(1).cuda() if self.use_cuda else torch.zeros(1)\n",
    "        \n",
    "        self.model.train() # Set train mode\n",
    "        iterator = tqdm(range(n_epochs))\n",
    "        \n",
    "        for epoch in iterator:\n",
    "            iterator.set_description(f\"epoch {epoch + 1}/{n_epochs}\")\n",
    "            \n",
    "            R, probs, actions, actions_idxs = self.model(self.train_data)\n",
    "\n",
    "            critic_exp_mvg_avg = (critic_exp_mvg_avg * self.beta) + ((1. - self.beta) * R.mean())\n",
    "            advantage = R - critic_exp_mvg_avg\n",
    "\n",
    "            logprobs = 0\n",
    "            for prob in probs: \n",
    "                logprob = torch.log(prob)\n",
    "                logprobs += logprob\n",
    "            logprobs[logprobs < -1000] = 0.  \n",
    "\n",
    "            reinforce = advantage * logprobs\n",
    "            actor_loss = reinforce.mean()\n",
    "\n",
    "            self.actor_optim.zero_grad()\n",
    "            actor_loss.backward()\n",
    "            torch.nn.utils.clip_grad_norm_(\n",
    "                self.model.actor.parameters(), \n",
    "                float(self.max_grad_norm), \n",
    "                norm_type=2,\n",
    "            )\n",
    "\n",
    "            self.actor_optim.step()\n",
    "            critic_exp_mvg_avg = critic_exp_mvg_avg.detach()\n",
    "\n",
    "            l = float(actor_loss.data)\n",
    "            r = float(R.mean().data)\n",
    "            self.train_loss.append(l)\n",
    "            self.train_tour.append(r)\n",
    "            self.epochs += 1\n",
    "            \n",
    "            iterator.set_postfix(loss=\"{}\".format(l), reward=\"{}\".format(r))\n",
    "                    \n",
    "        self.model.eval() # Set not train mode\n",
    "            \n",
    "    def predict(self):\n",
    "        \"\"\"Predict on the train data.\n",
    "\n",
    "        Returns:\n",
    "            torch.Tensor, list[torch.Tensor], list[torch.Tensor], list[torch.Tensor]: Reward, probabilities, actions, idxs of actions.\n",
    "        \"\"\"\n",
    "        R, probs, actions, actions_idxs = self.model(self.train_data)\n",
    "        \n",
    "        return R, probs, actions, actions_idxs"
   ]
  },
  {
   "cell_type": "markdown",
   "metadata": {
    "papermill": {
     "duration": 0.01447,
     "end_time": "2022-12-27T07:03:56.968327",
     "exception": false,
     "start_time": "2022-12-27T07:03:56.953857",
     "status": "completed"
    },
    "tags": []
   },
   "source": [
    "<h2>(3) Prepare TSP</h2>"
   ]
  },
  {
   "cell_type": "code",
   "execution_count": 6,
   "metadata": {
    "execution": {
     "iopub.execute_input": "2022-12-27T03:51:58.097812Z",
     "iopub.status.busy": "2022-12-27T03:51:58.097524Z",
     "iopub.status.idle": "2022-12-27T03:51:58.114694Z",
     "shell.execute_reply": "2022-12-27T03:51:58.113625Z",
     "shell.execute_reply.started": "2022-12-27T03:51:58.097766Z"
    },
    "papermill": {
     "duration": 0.035182,
     "end_time": "2022-12-27T07:03:57.018066",
     "exception": false,
     "start_time": "2022-12-27T07:03:56.982884",
     "status": "completed"
    },
    "tags": []
   },
   "outputs": [],
   "source": [
    "# Define TSP: Traveling Salesman Problem\n",
    "df = prepare_tsp(N_POINT)\n",
    "\n",
    "# Get the distance matrix\n",
    "distances = get_distances(df)"
   ]
  },
  {
   "cell_type": "code",
   "execution_count": 7,
   "metadata": {
    "execution": {
     "iopub.execute_input": "2022-12-27T03:51:58.455554Z",
     "iopub.status.busy": "2022-12-27T03:51:58.455267Z",
     "iopub.status.idle": "2022-12-27T03:51:59.385320Z",
     "shell.execute_reply": "2022-12-27T03:51:59.384407Z",
     "shell.execute_reply.started": "2022-12-27T03:51:58.455504Z"
    },
    "papermill": {
     "duration": 0.890086,
     "end_time": "2022-12-27T07:03:57.923485",
     "exception": false,
     "start_time": "2022-12-27T07:03:57.033399",
     "status": "completed"
    },
    "tags": []
   },
   "outputs": [
    {
     "data": {
      "image/png": "[encoded data removed]",
      "text/plain": [
       "<Figure size 936x792 with 2 Axes>"
      ]
     },
     "metadata": {
      "needs_background": "light"
     },
     "output_type": "display_data"
    }
   ],
   "source": [
    "# Plot the distance matrix\n",
    "plot_distance_matrix(distances)"
   ]
  },
  {
   "cell_type": "code",
   "execution_count": 8,
   "metadata": {
    "execution": {
     "iopub.execute_input": "2022-12-27T03:51:59.387423Z",
     "iopub.status.busy": "2022-12-27T03:51:59.387091Z",
     "iopub.status.idle": "2022-12-27T03:51:59.573947Z",
     "shell.execute_reply": "2022-12-27T03:51:59.573006Z",
     "shell.execute_reply.started": "2022-12-27T03:51:59.387374Z"
    },
    "papermill": {
     "duration": 0.191142,
     "end_time": "2022-12-27T07:03:58.131709",
     "exception": false,
     "start_time": "2022-12-27T07:03:57.940567",
     "status": "completed"
    },
    "tags": []
   },
   "outputs": [
    {
     "data": {
      "image/png": "[encoded data removed]",
      "text/plain": [
       "<Figure size 360x360 with 1 Axes>"
      ]
     },
     "metadata": {
      "needs_background": "light"
     },
     "output_type": "display_data"
    }
   ],
   "source": [
    "# Plot TSP state\n",
    "plot_tsp_state(df)"
   ]
  },
  {
   "cell_type": "markdown",
   "metadata": {
    "papermill": {
     "duration": 0.016869,
     "end_time": "2022-12-27T07:03:58.165982",
     "exception": false,
     "start_time": "2022-12-27T07:03:58.149113",
     "status": "completed"
    },
    "tags": []
   },
   "source": [
    "<h2>(4) Solve using MIP(Mixed Integer Problem)</h2>\n",
    "<p>\n",
    "まずは一般的な方法として、混合整数計画法（MIP: Mixed Integer Problem）をPuLPで実装して解いてみます。<br>\n",
    "<br>\n",
    "===================<br>\n",
    "<br>\n",
    "First, as a general method, solve using mixed integer programming (MIP: Mixed Integer Programming) by PuLP.<br>\n",
    "<br>\n",
    "</p>"
   ]
  },
  {
   "cell_type": "code",
   "execution_count": 9,
   "metadata": {
    "execution": {
     "iopub.execute_input": "2022-12-27T03:51:59.576126Z",
     "iopub.status.busy": "2022-12-27T03:51:59.575492Z",
     "iopub.status.idle": "2022-12-27T03:52:21.552418Z",
     "shell.execute_reply": "2022-12-27T03:52:21.551267Z",
     "shell.execute_reply.started": "2022-12-27T03:51:59.575828Z"
    },
    "papermill": {
     "duration": 13.649609,
     "end_time": "2022-12-27T07:04:11.832646",
     "exception": false,
     "start_time": "2022-12-27T07:03:58.183037",
     "status": "completed"
    },
    "tags": []
   },
   "outputs": [
    {
     "data": {
      "text/plain": [
       "(1, 'Optimal', 345.4749473240595)"
      ]
     },
     "execution_count": 9,
     "metadata": {},
     "output_type": "execute_result"
    }
   ],
   "source": [
    "# Define the problem and solve\n",
    "tsp_solver = TSPSolver(n_point=N_POINT, distances=distances)\n",
    "tsp_solver.set_problem()\n",
    "tsp_solver.solve()\n",
    "tsp_solver.check_status()"
   ]
  },
  {
   "cell_type": "code",
   "execution_count": 10,
   "metadata": {
    "execution": {
     "iopub.execute_input": "2022-12-27T03:52:21.555944Z",
     "iopub.status.busy": "2022-12-27T03:52:21.555501Z",
     "iopub.status.idle": "2022-12-27T03:52:21.872577Z",
     "shell.execute_reply": "2022-12-27T03:52:21.871685Z",
     "shell.execute_reply.started": "2022-12-27T03:52:21.555885Z"
    },
    "papermill": {
     "duration": 0.290887,
     "end_time": "2022-12-27T07:04:12.141201",
     "exception": false,
     "start_time": "2022-12-27T07:04:11.850314",
     "status": "completed"
    },
    "tags": []
   },
   "outputs": [
    {
     "data": {
      "image/png": "[encoded data removed]",
      "text/plain": [
       "<Figure size 360x360 with 1 Axes>"
      ]
     },
     "metadata": {
      "needs_background": "light"
     },
     "output_type": "display_data"
    }
   ],
   "source": [
    "# Plot TSP state and optimized route\n",
    "routes = [(i, j) for i in range(N_POINT) for j in range(N_POINT) if pulp.value(tsp_solver.x[i, j]) == 1]\n",
    "plot_tsp_state(df, routes)"
   ]
  },
  {
   "cell_type": "markdown",
   "metadata": {
    "papermill": {
     "duration": 0.017594,
     "end_time": "2022-12-27T07:04:12.176899",
     "exception": false,
     "start_time": "2022-12-27T07:04:12.159305",
     "status": "completed"
    },
    "tags": []
   },
   "source": [
    "<h2>(5) Solve using Deep Reinforcement Learning</h2>\n",
    "<p>\n",
    "深層学習モデルのアーキテクチャはPointer Networkと呼ばれるモデルを試しました。<br>\n",
    "<br>\n",
    "<b>- Pointer Networks: <a href=\"https://arxiv.org/abs/1506.03134\">https://arxiv.org/abs/1506.03134</a></b><br>\n",
    "<br>\n",
    "Pointer Networkは2017年にGoogleが出した論文で提案されたモデルであり、その少し前に登場したばかりの<b><a href=\"https://arxiv.org/abs/1409.3215\">Seq2Seq</a></b>から派生したモデルです。<br>\n",
    "予測・出力のイメージはSeq2Seqと同様に、入力シーケンスと出力シーケンスがあり、TSPにおいては、入力は単に都市のポイント列を入力して都市位置情報を与え、予測においては巡回する都市ポイントの列を出力します。<br>\n",
    "<br>\n",
    "学習の方法なのですが、Pointer Networksの論文の中でもTSPへの応用は言及されていますが、その中では最適化手法による解を教師データとして学習させています。<br>\n",
    "一方で、下記の論文にて、深層強化学習の枠組みで考えることで、探索的に最適巡回路を求める学習方法が提案されています。<br>\n",
    "<br>\n",
    "<b>- Neural Combinatorial Optimization with Reinforcement Learning: <a href=\"https://arxiv.org/abs/1611.09940\">https://arxiv.org/abs/1611.09940</a></b><br>\n",
    "<br>\n",
    "報酬は負の総移動距離で、ポリシーで提案した移動の順番の総移動距離が短くなればなるほど報酬が上がっていくように学習します。<br>\n",
    "<br>\n",
    "今回はこれらをPyTorchで実装して試してみました。<br>\n",
    "<br>\n",
    "===================<br>\n",
    "<br>\n",
    "Next, as the deep learning model architecture, tried a model called Pointer Network.<br>\n",
    "<br>\n",
    "<b>- Pointer Networks: <a href=\"https://arxiv.org/abs/1506.03134\">https://arxiv.org/abs/1506.03134</a></b><br>\n",
    "<br>\n",
    "Pointer Network is a model proposed by Google in 2017 applying <b><a href=\"https://arxiv.org/abs/1409.3215\">Seq2Seq</a></b>.<br>\n",
    "The image of an input and an output is similar to Seq2Seq, with an input sequence and an output sequence, in TSP, an input is a simple sequence of city points (location information), and an output is a sequence of city points of traveling route.<br>\n",
    "<br>\n",
    "About a learning method, the application to TSP in mentioned in the paper of Pointer Network, and the solution from the optimization method is used as train data for learning model.<br>\n",
    "On the other hand, the following paper proposes a learning method to find the optimal route exploratorily with the framework of deep reinforcement learning.<br>\n",
    "<br>\n",
    "<b>- Neural Combinatorial Optimization with Reinforcement Learning: <a href=\"https://arxiv.org/abs/1611.09940\">https://arxiv.org/abs/1611.09940</a></b><br>\n",
    "<br>\n",
    "The reward is the negative total distance of traveling, which is learned so that the shorter the total distance of traveling route that is proposed by the policy to get higher reward.<br>\n",
    "In this notebook, implemented and tried the method using PyTorch.<br>\n",
    "<br>\n",
    "</p>"
   ]
  },
  {
   "cell_type": "code",
   "execution_count": 11,
   "metadata": {
    "execution": {
     "iopub.execute_input": "2022-12-27T03:52:21.874779Z",
     "iopub.status.busy": "2022-12-27T03:52:21.874407Z",
     "iopub.status.idle": "2022-12-27T03:52:25.908711Z",
     "shell.execute_reply": "2022-12-27T03:52:25.907733Z",
     "shell.execute_reply.started": "2022-12-27T03:52:21.874724Z"
    },
    "papermill": {
     "duration": 4.129951,
     "end_time": "2022-12-27T07:04:16.325045",
     "exception": false,
     "start_time": "2022-12-27T07:04:12.195094",
     "status": "completed"
    },
    "tags": []
   },
   "outputs": [],
   "source": [
    "# Define the model\n",
    "model = NeuralCombinatorialOptimization(\n",
    "    embedding_size=EMBEDDING_SIZE,\n",
    "    hidden_size=HIDDEN_SIZE,\n",
    "    seq_len=N_POINT, \n",
    "    n_glimpses=N_GLIMPSES, \n",
    "    tanh_exploration=TANH_EXPLORATION,\n",
    "    use_tanh=USE_TANH,\n",
    "    reward=reward,\n",
    "    use_cuda=use_cuda,\n",
    ")\n",
    "\n",
    "if use_cuda:\n",
    "    model = model.cuda()"
   ]
  },
  {
   "cell_type": "code",
   "execution_count": 12,
   "metadata": {
    "execution": {
     "iopub.execute_input": "2022-12-27T03:52:25.910666Z",
     "iopub.status.busy": "2022-12-27T03:52:25.910311Z",
     "iopub.status.idle": "2022-12-27T03:52:25.920329Z",
     "shell.execute_reply": "2022-12-27T03:52:25.919529Z",
     "shell.execute_reply.started": "2022-12-27T03:52:25.910616Z"
    },
    "papermill": {
     "duration": 0.02983,
     "end_time": "2022-12-27T07:04:16.373820",
     "exception": false,
     "start_time": "2022-12-27T07:04:16.343990",
     "status": "completed"
    },
    "tags": []
   },
   "outputs": [],
   "source": [
    "# Set trainer\n",
    "train_data = torch.tensor(df.values.transpose(), dtype=torch.float32)\n",
    "trainer = Trainer(model, train_data)"
   ]
  },
  {
   "cell_type": "code",
   "execution_count": 13,
   "metadata": {
    "execution": {
     "iopub.execute_input": "2022-12-27T03:52:25.922885Z",
     "iopub.status.busy": "2022-12-27T03:52:25.921906Z",
     "iopub.status.idle": "2022-12-27T03:52:26.264492Z",
     "shell.execute_reply": "2022-12-27T03:52:26.263688Z",
     "shell.execute_reply.started": "2022-12-27T03:52:25.922492Z"
    },
    "papermill": {
     "duration": 80.36095,
     "end_time": "2022-12-27T07:05:36.753994",
     "exception": false,
     "start_time": "2022-12-27T07:04:16.393044",
     "status": "completed"
    },
    "tags": []
   },
   "outputs": [
    {
     "data": {
      "application/vnd.jupyter.widget-view+json": {
       "model_id": "03c19d21e9a9485cb5c36eed37f3c068",
       "version_major": 2,
       "version_minor": 0
      },
      "text/plain": [
       "HBox(children=(FloatProgress(value=0.0, max=1000.0), HTML(value='')))"
      ]
     },
     "metadata": {},
     "output_type": "display_data"
    },
    {
     "name": "stdout",
     "output_type": "stream",
     "text": [
      "\n"
     ]
    }
   ],
   "source": [
    "# Train\n",
    "trainer.train(n_epochs=N_EPOCH)"
   ]
  },
  {
   "cell_type": "code",
   "execution_count": 14,
   "metadata": {
    "execution": {
     "iopub.execute_input": "2022-12-27T03:52:26.268186Z",
     "iopub.status.busy": "2022-12-27T03:52:26.267199Z",
     "iopub.status.idle": "2022-12-27T03:52:26.634961Z",
     "shell.execute_reply": "2022-12-27T03:52:26.634195Z",
     "shell.execute_reply.started": "2022-12-27T03:52:26.268129Z"
    },
    "papermill": {
     "duration": 0.376337,
     "end_time": "2022-12-27T07:05:37.161056",
     "exception": false,
     "start_time": "2022-12-27T07:05:36.784719",
     "status": "completed"
    },
    "tags": []
   },
   "outputs": [
    {
     "data": {
      "image/png": "[encoded data removed]",
      "text/plain": [
       "<Figure size 432x288 with 2 Axes>"
      ]
     },
     "metadata": {
      "needs_background": "light"
     },
     "output_type": "display_data"
    }
   ],
   "source": [
    "# Plot rewards and losses\n",
    "plot_reward_loss(trainer)"
   ]
  },
  {
   "cell_type": "markdown",
   "metadata": {
    "papermill": {
     "duration": 0.032424,
     "end_time": "2022-12-27T07:05:37.229784",
     "exception": false,
     "start_time": "2022-12-27T07:05:37.197360",
     "status": "completed"
    },
    "tags": []
   },
   "source": [
    "<h2>Note:</h2>\n",
    "<p>\n",
    "学習結果は上記の通りで、報酬が先ほどMIPで解いた最短距離に近くなっていっているのが分かります。<br>\n",
    "<br>\n",
    "===================<br>\n",
    "<br>\n",
    "The train result are above, you can see that the reward are getting closer to the shortest distance from solution by MIP.<br>\n",
    "<br>\n",
    "</p>"
   ]
  },
  {
   "cell_type": "code",
   "execution_count": 15,
   "metadata": {
    "execution": {
     "iopub.execute_input": "2022-12-27T03:52:26.638473Z",
     "iopub.status.busy": "2022-12-27T03:52:26.638197Z",
     "iopub.status.idle": "2022-12-27T03:52:26.679922Z",
     "shell.execute_reply": "2022-12-27T03:52:26.679166Z",
     "shell.execute_reply.started": "2022-12-27T03:52:26.638426Z"
    },
    "papermill": {
     "duration": 0.079242,
     "end_time": "2022-12-27T07:05:37.339605",
     "exception": false,
     "start_time": "2022-12-27T07:05:37.260363",
     "status": "completed"
    },
    "tags": []
   },
   "outputs": [],
   "source": [
    "# Predict using trained model\n",
    "R, probs, actions, actions_idxs = trainer.predict()"
   ]
  },
  {
   "cell_type": "code",
   "execution_count": 16,
   "metadata": {
    "execution": {
     "iopub.execute_input": "2022-12-27T03:52:26.683471Z",
     "iopub.status.busy": "2022-12-27T03:52:26.683163Z",
     "iopub.status.idle": "2022-12-27T03:52:26.983196Z",
     "shell.execute_reply": "2022-12-27T03:52:26.982441Z",
     "shell.execute_reply.started": "2022-12-27T03:52:26.683423Z"
    },
    "papermill": {
     "duration": 0.428299,
     "end_time": "2022-12-27T07:05:37.799513",
     "exception": false,
     "start_time": "2022-12-27T07:05:37.371214",
     "status": "completed"
    },
    "tags": []
   },
   "outputs": [
    {
     "data": {
      "image/png": "[encoded data removed]",
      "text/plain": [
       "<Figure size 360x360 with 1 Axes>"
      ]
     },
     "metadata": {
      "needs_background": "light"
     },
     "output_type": "display_data"
    }
   ],
   "source": [
    "# Plot TSP state and predicted optimized route\n",
    "routes = [int(tensor) for tensor in actions_idxs]\n",
    "routes = [(routes[i-1], routes[i]) for i in range(len(routes))]\n",
    "plot_tsp_state(df, routes)"
   ]
  },
  {
   "cell_type": "markdown",
   "metadata": {
    "papermill": {
     "duration": 0.032869,
     "end_time": "2022-12-27T07:05:37.866178",
     "exception": false,
     "start_time": "2022-12-27T07:05:37.833309",
     "status": "completed"
    },
    "tags": []
   },
   "source": [
    "<h2>Insights:</h2>\n",
    "<p>\n",
    "学習させたモデルで最短経路を予測させてみた結果をグラフでプロットしてみると上記の通りで、ほぼ最適解のルートを予測できました。<br>\n",
    "<br>\n",
    "うまく解法できたものの、個人的には、いまいち有効とは言い切れないような感じだと思いました。<br>\n",
    "やはり問題自体の組み合わせ数が闇雲な探索にはハードすぎると思ったことと、近年発展してきている深層学習や強化学習の効果的な方法を、まだあまりこのような分野に適用し切れていないように思いました。<br>\n",
    "この実装をしていた時にも思いましたが、入力情報をわざわざ系列データで入力しなくても良いのでは？<br>\n",
    "一応、詳しく調べ切れていませんが、TransformerベースでVRPにアプローチする論文もあるみたいです。<br>\n",
    "<br>\n",
    "また、ある程度これよりも大きい規模でかつ条件が頻繁に変わる（都市座標が毎回変わるなど）状態だと、有効な場合もあるのかなと思いました。<br>\n",
    "最適化手法では毎回解くのに実行時間がかかってしまいますが、このような手法ならランダムに都市情報を変えたトレーニングデータでモデルを長時間学習させたものを持っていれば、毎回推論だけで済むのかなと思います。<br>\n",
    "<br>\n",
    "あと、今回の実装で一番頑張ったのは、Matplotlibで矢印を描くところだったかもしれない。<br>\n",
    "<br>\n",
    "===================<br>\n",
    "<br>\n",
    "The result of predicting the shortest route with the trained model are plotted in the above graph, and you can see that the model can predict almost the optimal solution.<br>\n",
    "<br>\n",
    "Although it could solve the problem almost successfully, but I felt that it was not quite valid method.<br>\n",
    "I thought that the number of combinations of the problem was too hard to search randomly, and effective methods of deep learning and reinforcement learning, which have been developed in recent years, have not been applied yet in the field.<br>\n",
    "When I was implementing this, I thought why does input information of points of cities as a sequence?<br>\n",
    "There somewhat are papers that propose a method based on Transformer to solve VRP, although I have not been able to research well.<br>\n",
    "<br>\n",
    "I wondered if it might be effective on larger scale problem and conditions change frequently. (e.g. city coordinates change each time)<br>\n",
    "In the case, optimization methods take a lot of run time to solve each time, but deep reinforcement learning method, if you have a trained model on training data with randomly changed city coordinates, I think you can just inference time.<br>\n",
    "<br>\n",
    "By the way, the hardest part of this notebook may have been drawing arrows using matplotlib, haha.<br>\n",
    "<br>\n",
    "</p>"
   ]
  },
  {
   "cell_type": "code",
   "execution_count": 17,
   "metadata": {
    "execution": {
     "iopub.execute_input": "2022-12-26T11:11:39.453411Z",
     "iopub.status.busy": "2022-12-26T11:11:39.453036Z",
     "iopub.status.idle": "2022-12-26T11:11:39.457940Z",
     "shell.execute_reply": "2022-12-26T11:11:39.457060Z",
     "shell.execute_reply.started": "2022-12-26T11:11:39.453351Z"
    },
    "papermill": {
     "duration": 3.974297,
     "end_time": "2022-12-27T07:05:41.874255",
     "exception": false,
     "start_time": "2022-12-27T07:05:37.899958",
     "status": "completed"
    },
    "tags": []
   },
   "outputs": [],
   "source": [
    "!pip freeze > requirements.txt\n",
    "!python --version > py_ver.txt\n",
    "!cat /proc/driver/nvidia/version > nvidia_ver.txt"
   ]
  }
 ],
 "metadata": {
  "kernelspec": {
   "display_name": "Python 3",
   "language": "python",
   "name": "python3"
  },
  "language_info": {
   "codemirror_mode": {
    "name": "ipython",
    "version": 3
   },
   "file_extension": ".py",
   "mimetype": "text/x-python",
   "name": "python",
   "nbconvert_exporter": "python",
   "pygments_lexer": "ipython3",
   "version": "3.7.6"
  },
  "papermill": {
   "duration": 120.416237,
   "end_time": "2022-12-27T07:05:42.804931",
   "environment_variables": {},
   "exception": null,
   "input_path": "__notebook__.ipynb",
   "output_path": "__notebook__.ipynb",
   "parameters": {},
   "start_time": "2022-12-27T07:03:42.388694",
   "version": "1.2.1"
  },
  "widgets": {
   "application/vnd.jupyter.widget-state+json": {
    "state": {
     "03c19d21e9a9485cb5c36eed37f3c068": {
      "model_module": "@jupyter-widgets/controls",
      "model_module_version": "1.5.0",
      "model_name": "HBoxModel",
      "state": {
       "_dom_classes": [],
       "_model_module": "@jupyter-widgets/controls",
       "_model_module_version": "1.5.0",
       "_model_name": "HBoxModel",
       "_view_count": null,
       "_view_module": "@jupyter-widgets/controls",
       "_view_module_version": "1.5.0",
       "_view_name": "HBoxView",
       "box_style": "",
       "children": [
        "IPY_MODEL_e61e4f0fc3a943cf85eae043efe32e2e",
        "IPY_MODEL_ed2bde36fa8c4dc78473a873c137aabc"
       ],
       "layout": "IPY_MODEL_907516b57c6a4d9d819ee65df2b39e72"
      }
     },
     "2e9758f889f0416fa2d808af078ffba6": {
      "model_module": "@jupyter-widgets/controls",
      "model_module_version": "1.5.0",
      "model_name": "DescriptionStyleModel",
      "state": {
       "_model_module": "@jupyter-widgets/controls",
       "_model_module_version": "1.5.0",
       "_model_name": "DescriptionStyleModel",
       "_view_count": null,
       "_view_module": "@jupyter-widgets/base",
       "_view_module_version": "1.2.0",
       "_view_name": "StyleView",
       "description_width": ""
      }
     },
     "5a449ba68c194741a5345cafe00ed78e": {
      "model_module": "@jupyter-widgets/base",
      "model_module_version": "1.2.0",
      "model_name": "LayoutModel",
      "state": {
       "_model_module": "@jupyter-widgets/base",
       "_model_module_version": "1.2.0",
       "_model_name": "LayoutModel",
       "_view_count": null,
       "_view_module": "@jupyter-widgets/base",
       "_view_module_version": "1.2.0",
       "_view_name": "LayoutView",
       "align_content": null,
       "align_items": null,
       "align_self": null,
       "border": null,
       "bottom": null,
       "display": null,
       "flex": null,
       "flex_flow": null,
       "grid_area": null,
       "grid_auto_columns": null,
       "grid_auto_flow": null,
       "grid_auto_rows": null,
       "grid_column": null,
       "grid_gap": null,
       "grid_row": null,
       "grid_template_areas": null,
       "grid_template_columns": null,
       "grid_template_rows": null,
       "height": null,
       "justify_content": null,
       "justify_items": null,
       "left": null,
       "margin": null,
       "max_height": null,
       "max_width": null,
       "min_height": null,
       "min_width": null,
       "object_fit": null,
       "object_position": null,
       "order": null,
       "overflow": null,
       "overflow_x": null,
       "overflow_y": null,
       "padding": null,
       "right": null,
       "top": null,
       "visibility": null,
       "width": null
      }
     },
     "6cbced5f0b1240a4953cd68029fc31c8": {
      "model_module": "@jupyter-widgets/controls",
      "model_module_version": "1.5.0",
      "model_name": "ProgressStyleModel",
      "state": {
       "_model_module": "@jupyter-widgets/controls",
       "_model_module_version": "1.5.0",
       "_model_name": "ProgressStyleModel",
       "_view_count": null,
       "_view_module": "@jupyter-widgets/base",
       "_view_module_version": "1.2.0",
       "_view_name": "StyleView",
       "bar_color": null,
       "description_width": "initial"
      }
     },
     "907516b57c6a4d9d819ee65df2b39e72": {
      "model_module": "@jupyter-widgets/base",
      "model_module_version": "1.2.0",
      "model_name": "LayoutModel",
      "state": {
       "_model_module": "@jupyter-widgets/base",
       "_model_module_version": "1.2.0",
       "_model_name": "LayoutModel",
       "_view_count": null,
       "_view_module": "@jupyter-widgets/base",
       "_view_module_version": "1.2.0",
       "_view_name": "LayoutView",
       "align_content": null,
       "align_items": null,
       "align_self": null,
       "border": null,
       "bottom": null,
       "display": null,
       "flex": null,
       "flex_flow": null,
       "grid_area": null,
       "grid_auto_columns": null,
       "grid_auto_flow": null,
       "grid_auto_rows": null,
       "grid_column": null,
       "grid_gap": null,
       "grid_row": null,
       "grid_template_areas": null,
       "grid_template_columns": null,
       "grid_template_rows": null,
       "height": null,
       "justify_content": null,
       "justify_items": null,
       "left": null,
       "margin": null,
       "max_height": null,
       "max_width": null,
       "min_height": null,
       "min_width": null,
       "object_fit": null,
       "object_position": null,
       "order": null,
       "overflow": null,
       "overflow_x": null,
       "overflow_y": null,
       "padding": null,
       "right": null,
       "top": null,
       "visibility": null,
       "width": null
      }
     },
     "cf828cdbc6294ba4bb6bcf23102e49e9": {
      "model_module": "@jupyter-widgets/base",
      "model_module_version": "1.2.0",
      "model_name": "LayoutModel",
      "state": {
       "_model_module": "@jupyter-widgets/base",
       "_model_module_version": "1.2.0",
       "_model_name": "LayoutModel",
       "_view_count": null,
       "_view_module": "@jupyter-widgets/base",
       "_view_module_version": "1.2.0",
       "_view_name": "LayoutView",
       "align_content": null,
       "align_items": null,
       "align_self": null,
       "border": null,
       "bottom": null,
       "display": null,
       "flex": null,
       "flex_flow": null,
       "grid_area": null,
       "grid_auto_columns": null,
       "grid_auto_flow": null,
       "grid_auto_rows": null,
       "grid_column": null,
       "grid_gap": null,
       "grid_row": null,
       "grid_template_areas": null,
       "grid_template_columns": null,
       "grid_template_rows": null,
       "height": null,
       "justify_content": null,
       "justify_items": null,
       "left": null,
       "margin": null,
       "max_height": null,
       "max_width": null,
       "min_height": null,
       "min_width": null,
       "object_fit": null,
       "object_position": null,
       "order": null,
       "overflow": null,
       "overflow_x": null,
       "overflow_y": null,
       "padding": null,
       "right": null,
       "top": null,
       "visibility": null,
       "width": null
      }
     },
     "e61e4f0fc3a943cf85eae043efe32e2e": {
      "model_module": "@jupyter-widgets/controls",
      "model_module_version": "1.5.0",
      "model_name": "FloatProgressModel",
      "state": {
       "_dom_classes": [],
       "_model_module": "@jupyter-widgets/controls",
       "_model_module_version": "1.5.0",
       "_model_name": "FloatProgressModel",
       "_view_count": null,
       "_view_module": "@jupyter-widgets/controls",
       "_view_module_version": "1.5.0",
       "_view_name": "ProgressView",
       "bar_style": "success",
       "description": "epoch 1000/1000: 100%",
       "description_tooltip": null,
       "layout": "IPY_MODEL_cf828cdbc6294ba4bb6bcf23102e49e9",
       "max": 1000.0,
       "min": 0.0,
       "orientation": "horizontal",
       "style": "IPY_MODEL_6cbced5f0b1240a4953cd68029fc31c8",
       "value": 1000.0
      }
     },
     "ed2bde36fa8c4dc78473a873c137aabc": {
      "model_module": "@jupyter-widgets/controls",
      "model_module_version": "1.5.0",
      "model_name": "HTMLModel",
      "state": {
       "_dom_classes": [],
       "_model_module": "@jupyter-widgets/controls",
       "_model_module_version": "1.5.0",
       "_model_name": "HTMLModel",
       "_view_count": null,
       "_view_module": "@jupyter-widgets/controls",
       "_view_module_version": "1.5.0",
       "_view_name": "HTMLView",
       "description": "",
       "description_tooltip": null,
       "layout": "IPY_MODEL_5a449ba68c194741a5345cafe00ed78e",
       "placeholder": "​",
       "style": "IPY_MODEL_2e9758f889f0416fa2d808af078ffba6",
       "value": " 1000/1000 [01:20&lt;00:00, 12.39it/s, loss=14.321892738342285, reward=404.0218811035156]"
      }
     }
    },
    "version_major": 2,
    "version_minor": 0
   }
  }
 },
 "nbformat": 4,
 "nbformat_minor": 4
}
